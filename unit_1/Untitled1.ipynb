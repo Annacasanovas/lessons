{
 "cells": [
  {
   "cell_type": "markdown",
   "id": "acea0653-8fab-44c1-bf5a-60f2f36816e7",
   "metadata": {},
   "source": [
    "FILES FOR LAB INCOMING INDEX"
   ]
  }
 ],
 "metadata": {
  "kernelspec": {
   "display_name": "Python 3 (ipykernel)",
   "language": "python",
   "name": "python3"
  },
  "language_info": {
   "codemirror_mode": {
    "name": "ipython",
    "version": 3
   },
   "file_extension": ".py",
   "mimetype": "text/x-python",
   "name": "python",
   "nbconvert_exporter": "python",
   "pygments_lexer": "ipython3",
   "version": "3.9.12"
  }
 },
 "nbformat": 4,
 "nbformat_minor": 5
}
