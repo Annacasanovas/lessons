{
 "cells": [
  {
   "cell_type": "markdown",
   "id": "53aecc87-6b20-4304-9e84-5ccd3501b812",
   "metadata": {},
   "source": [
    "# Lab 2.08"
   ]
  },
  {
   "cell_type": "code",
   "execution_count": 2,
   "id": "f225bcdc-3b60-4218-ae93-affdd7924ad7",
   "metadata": {},
   "outputs": [
    {
     "ename": "SyntaxError",
     "evalue": "invalid syntax (2411922523.py, line 1)",
     "output_type": "error",
     "traceback": [
      "\u001b[1;36m  Input \u001b[1;32mIn [2]\u001b[1;36m\u001b[0m\n\u001b[1;33m    ```sql\u001b[0m\n\u001b[1;37m    ^\u001b[0m\n\u001b[1;31mSyntaxError\u001b[0m\u001b[1;31m:\u001b[0m invalid syntax\n"
     ]
    }
   ],
   "source": [
    "```sql\n",
    "-- 1\n",
    "select title, length, RANK() over (ORDER BY length) ranks\n",
    "from sakila.film\n",
    "where length is not null and length > 0;\n",
    "\n",
    "-- 2\n",
    "select title, length, rating, rank() over (partition by rating order by length desc) as ranks\n",
    "from sakila.film\n",
    "where length is not null and length > 0;\n",
    "\n",
    "-- 3\n",
    "select name as category_name, count(*) as num_films\n",
    "from sakila.category inner join sakila.film_category using (category_id)\n",
    "group by name\n",
    "order by num_films desc;\n",
    "\n",
    "-- 5\n",
    "select actor.actor_id, actor.first_name, actor.last_name,\n",
    "count(actor_id) as film_count\n",
    "from sakila.actor join sakila.film_actor using (actor_id)\n",
    "group by actor_id\n",
    "order by film_count desc\n",
    "limit 1;\n",
    "\n",
    "-- 5\n",
    "select customer.*,\n",
    "count(rental_id) as rental_count\n",
    "from sakila.customer join sakila.rental using (customer_id)\n",
    "group by customer_id\n",
    "order by rental_count desc\n",
    "limit 1;\n",
    "\n",
    "BONUS\n",
    "select film.title, count(rental_id) as rental_count\n",
    "from sakila.film inner join sakila.inventory using (film_id)\n",
    "inner join sakila.rental using (inventory_id)\n",
    "group by film_id\n",
    "order by rental_count desc\n",
    "limit 1;"
   ]
  }
 ],
 "metadata": {
  "kernelspec": {
   "display_name": "Python 3 (ipykernel)",
   "language": "python",
   "name": "python3"
  },
  "language_info": {
   "codemirror_mode": {
    "name": "ipython",
    "version": 3
   },
   "file_extension": ".py",
   "mimetype": "text/x-python",
   "name": "python",
   "nbconvert_exporter": "python",
   "pygments_lexer": "ipython3",
   "version": "3.9.12"
  }
 },
 "nbformat": 4,
 "nbformat_minor": 5
}
