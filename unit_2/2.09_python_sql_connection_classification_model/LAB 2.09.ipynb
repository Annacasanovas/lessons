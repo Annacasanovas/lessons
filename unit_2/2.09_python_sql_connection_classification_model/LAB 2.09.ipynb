{
 "cells": [
  {
   "cell_type": "markdown",
   "id": "274a72cd-fc16-4104-9a9f-ec167ae85670",
   "metadata": {},
   "source": [
    "# LAB 2.09"
   ]
  },
  {
   "cell_type": "code",
   "execution_count": 2,
   "id": "95fd627f-5918-44d8-ab31-a412fd3cae81",
   "metadata": {},
   "outputs": [
    {
     "ename": "SyntaxError",
     "evalue": "invalid syntax (2674870401.py, line 1)",
     "output_type": "error",
     "traceback": [
      "\u001b[1;36m  Input \u001b[1;32mIn [2]\u001b[1;36m\u001b[0m\n\u001b[1;33m    ```sql\u001b[0m\n\u001b[1;37m    ^\u001b[0m\n\u001b[1;31mSyntaxError\u001b[0m\u001b[1;31m:\u001b[0m invalid syntax\n"
     ]
    }
   ],
   "source": [
    "```sql\n",
    "-- to create table for may rentals\n",
    "\n",
    "create table if not exists rentals_may like sakila.rental;\n",
    "```\n",
    "\n",
    "```sql\n",
    "-- insert values in the table\n",
    "\n",
    "insert into rentals_may\n",
    "select * from sakila.rental\n",
    "where rental_date between date('2005-05-15') and date('2005-05-30');\n",
    "```\n",
    "\n",
    "```sql\n",
    "-- to create table for June rentals\n",
    "\n",
    "create table if not exists rentals_june like sakila.rental;\n",
    "```\n",
    "\n",
    "```sql\n",
    "-- insert values in the table\n",
    "\n",
    "insert into rentals_june\n",
    "select * from sakila.rental\n",
    "where rental_date between date('2005-06-15') and date('2005-06-30');\n",
    "```\n",
    "\n",
    "```sql\n",
    "-- Check the number of rentals for each customer for May\n",
    "\n",
    "select customer_id, count(customer_id) as num_rentals_may\n",
    "from rentals_may\n",
    "group by customer_id;\n",
    "```\n",
    "\n",
    "```sql\n",
    "-- Check the number of rentals for each customer for June\n",
    "\n",
    "select customer_id, count(customer_id) as num_rentals_june\n",
    "from rentals_june\n",
    "group by customer_id;\n",
    "```\n",
    "\n",
    "```python\n",
    "# Create a python connection with SQL database and retrieve the results of the last two queries\n",
    "\n",
    "# Code to create the connection\n",
    "\n",
    "import pymysql\n",
    "from sqlalchemy import create_engine\n",
    "import pandas as pd\n",
    "import getpass # To get the password without showing the input\n",
    "password = getpass.getpass()\n",
    "connection_string = 'mysql+pymysql://root:' + password + '@localhost/sakila'\n",
    "engine = create_engine(connection_string)\n",
    "```\n",
    "```python\n",
    "# Code to extract data for may rentals\n",
    "\n",
    "query = '''select customer_id, count(customer_id) as num_rentals_may\n",
    "from rentals_may\n",
    "group by customer_id;'''\n",
    "df1 = pd.read_sql_query(query, engine)\n",
    "df1.head()\n",
    "\n",
    "# Code to extract data for June rentals\n",
    "\n",
    "query = '''select customer_id, count(customer_id) as num_rentals_june\n",
    "from rentals_june\n",
    "group by customer_id;'''\n",
    "df2 = pd.read_sql_query(query, engine)\n",
    "df2.head()\n",
    "```\n",
    "\n",
    "```python\n",
    "# Code to check the customers that rented more books in June as compared to May\n",
    "\n",
    "df = df1.merge(df2, on='customer_id', how = 'inner')\n",
    "df['diff'] = df['num_rentals_june'] - df['num_rentals_may']\n",
    "df[df['diff']>0].shape\n",
    "```"
   ]
  }
 ],
 "metadata": {
  "kernelspec": {
   "display_name": "Python 3 (ipykernel)",
   "language": "python",
   "name": "python3"
  },
  "language_info": {
   "codemirror_mode": {
    "name": "ipython",
    "version": 3
   },
   "file_extension": ".py",
   "mimetype": "text/x-python",
   "name": "python",
   "nbconvert_exporter": "python",
   "pygments_lexer": "ipython3",
   "version": "3.9.12"
  }
 },
 "nbformat": 4,
 "nbformat_minor": 5
}
