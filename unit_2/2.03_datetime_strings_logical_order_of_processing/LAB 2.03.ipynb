{
 "cells": [
  {
   "cell_type": "markdown",
   "id": "295ee4a1-cb87-4f60-bcb0-00f93d9dfd66",
   "metadata": {},
   "source": [
    "# LAB 2.03"
   ]
  },
  {
   "cell_type": "code",
   "execution_count": 2,
   "id": "7cf92053-7837-4901-a5b3-ba4f70717d2b",
   "metadata": {},
   "outputs": [
    {
     "ename": "SyntaxError",
     "evalue": "invalid syntax (4062953669.py, line 1)",
     "output_type": "error",
     "traceback": [
      "\u001b[1;36m  Input \u001b[1;32mIn [2]\u001b[1;36m\u001b[0m\n\u001b[1;33m    -- LAB SQL QUERIES 3\u001b[0m\n\u001b[1;37m           ^\u001b[0m\n\u001b[1;31mSyntaxError\u001b[0m\u001b[1;31m:\u001b[0m invalid syntax\n"
     ]
    }
   ],
   "source": [
    "-- LAB SQL QUERIES 3\n",
    "use sakila;\n",
    "-- 1. How many distinct (different) actors' last names are there?\n",
    "select count(distinct last_name) from sakila.actor;\n",
    "\n",
    "-- 2. In how many different languages where the films originally produced? (Use the column language_id from the film table\n",
    "select count(distinct language_id) from sakila.film;\n",
    "\n",
    "-- 3. How many movies were released with \"PG-13\" rating?\n",
    "select count(*) \n",
    "from sakila.film\n",
    "where rating = 'PG-13';\n",
    "\n",
    "-- 4. Get 10 the longest movies from 2006\n",
    "select film_id, title, length from sakila.film\n",
    "where release_year = 2006\n",
    "order by length desc\n",
    "limit 10;\n",
    "\n",
    "-- 5. How many days has been the company operating (check DATEDIFF() function)?\n",
    "select datediff(max(rental_date), min(rental_date)) as active_days\n",
    "from sakila.rental;\n",
    "\n",
    "-- 6. Show rental info with additional columns month and weekday. Get 20.\n",
    "select *, date_format(rental_date, '%M') as month,\n",
    "date_format(rental_date, '%W') as weekday\n",
    "from sakila.rental\n",
    "limit 20;\n",
    "\n",
    "-- 7. Add an additional column day_type with values 'weekend' and 'workday' depending on the rental day of the week.\n",
    "select *, case when date_format(rental_date, 'W%') in ('Saturday', 'Sunday')\n",
    "then 'weekend'\n",
    "else 'workday' end as day_type\n",
    "from sakila.rental;\n",
    "\n",
    "-- 8. How many rentals were in the last month of activity?\n",
    "select date(max(rental_date))- INTERVAL 30 DAY, date(max(rental_date))\n",
    "from sakila.rental;\n",
    "\n",
    "select count(*) as last_months_rentals\n",
    "from sakila.rental\n",
    "where date(rental_date) between date('2006-01-15') and date('2006-02-14');"
   ]
  }
 ],
 "metadata": {
  "kernelspec": {
   "display_name": "Python 3 (ipykernel)",
   "language": "python",
   "name": "python3"
  },
  "language_info": {
   "codemirror_mode": {
    "name": "ipython",
    "version": 3
   },
   "file_extension": ".py",
   "mimetype": "text/x-python",
   "name": "python",
   "nbconvert_exporter": "python",
   "pygments_lexer": "ipython3",
   "version": "3.9.12"
  }
 },
 "nbformat": 4,
 "nbformat_minor": 5
}
