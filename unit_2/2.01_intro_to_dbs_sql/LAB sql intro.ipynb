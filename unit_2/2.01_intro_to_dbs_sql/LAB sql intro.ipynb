{
 "cells": [
  {
   "cell_type": "code",
   "execution_count": 2,
   "id": "e2f456cf-41f8-4cfb-8912-71e519db9f83",
   "metadata": {},
   "outputs": [
    {
     "ename": "SyntaxError",
     "evalue": "invalid syntax (305041543.py, line 1)",
     "output_type": "error",
     "traceback": [
      "\u001b[1;36m  Input \u001b[1;32mIn [2]\u001b[1;36m\u001b[0m\n\u001b[1;33m    -- LAB SQL INTRO\u001b[0m\n\u001b[1;37m           ^\u001b[0m\n\u001b[1;31mSyntaxError\u001b[0m\u001b[1;31m:\u001b[0m invalid syntax\n"
     ]
    }
   ],
   "source": [
    "-- LAB SQL INTRO\n",
    "\n",
    "'''sql\n",
    "\n",
    "use sakila;\n",
    "\n",
    "select * from actor, film, customer;\n",
    "\n",
    "select title from sakila.film;\n",
    "\n",
    "select distinct language_id as language from sakila.film;\n",
    "\n",
    "select count(store_id) from store;\n",
    "\n",
    "select count(staff_id) from staff;\n",
    "\n",
    "select first_name from staff;"
   ]
  }
 ],
 "metadata": {
  "kernelspec": {
   "display_name": "Python 3 (ipykernel)",
   "language": "python",
   "name": "python3"
  },
  "language_info": {
   "codemirror_mode": {
    "name": "ipython",
    "version": 3
   },
   "file_extension": ".py",
   "mimetype": "text/x-python",
   "name": "python",
   "nbconvert_exporter": "python",
   "pygments_lexer": "ipython3",
   "version": "3.9.12"
  }
 },
 "nbformat": 4,
 "nbformat_minor": 5
}
